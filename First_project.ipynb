{
 "cells": [
  {
   "cell_type": "code",
   "execution_count": 13,
   "id": "a5d14b7a-bc3d-41fd-abf1-0aa3d0b1c03c",
   "metadata": {},
   "outputs": [],
   "source": [
    "import requests\n",
    "import logging\n",
    "import os\n",
    "from bs4 import BeautifulSoup\n",
    "from urllib.request import urlopen\n"
   ]
  },
  {
   "cell_type": "code",
   "execution_count": 14,
   "id": "93b057ee-0244-488f-ac13-dcabc01ee42a",
   "metadata": {},
   "outputs": [],
   "source": [
    "save_dir=\"images/\"\n",
    "if not os.path.exists(save_dir):\n",
    "    os.makedirs(save_dir)"
   ]
  },
  {
   "cell_type": "code",
   "execution_count": 15,
   "id": "e97c5d29-ef72-4c64-b02f-ed7cba690739",
   "metadata": {
    "scrolled": true
   },
   "outputs": [],
   "source": [
    "query=\"Narendra Modi\"\n"
   ]
  },
  {
   "cell_type": "code",
   "execution_count": 16,
   "id": "97abbd82-88a1-4dd8-9a2c-fa12baf0ad06",
   "metadata": {},
   "outputs": [],
   "source": [
    "response=requests.get(f\"https://www.google.com/search?q=narendra+modi&newwindow=1&sca_esv=574726742&tbm=isch&sxsrf=AM9HkKkG8l7lmZ8cpq1L_5zOqCE6CS8mfg:1697711285589&source=lnms&sa=X&ved=2ahUKEwj49-6w84GCAxXhwTgGHQWSAbgQ_AUoA3oECAMQBQ\")"
   ]
  },
  {
   "cell_type": "code",
   "execution_count": 33,
   "id": "5ecebcb5",
   "metadata": {},
   "outputs": [],
   "source": [
    "for i in img_tags:\n",
    "    img_url=i['src']\n",
    "    img_data=requests.get(img_url).content"
   ]
  },
  {
   "cell_type": "code",
   "execution_count": 20,
   "id": "e724fe04-56d7-4381-8fe5-514b2d9fce73",
   "metadata": {},
   "outputs": [
    {
     "data": {
      "text/plain": [
       "<Response [200]>"
      ]
     },
     "execution_count": 20,
     "metadata": {},
     "output_type": "execute_result"
    }
   ],
   "source": [
    "response\n"
   ]
  },
  {
   "cell_type": "code",
   "execution_count": 21,
   "id": "4f7fdcf9-6be6-4aad-9b17-0dc4627d1850",
   "metadata": {},
   "outputs": [],
   "source": [
    "soup=BeautifulSoup(response.content,\"html.parser\")"
   ]
  },
  {
   "cell_type": "code",
   "execution_count": 22,
   "id": "ae797683-5c4f-4473-bd94-a45b6af05497",
   "metadata": {},
   "outputs": [],
   "source": [
    "img_tags=soup.find_all(\"img\")"
   ]
  },
  {
   "cell_type": "code",
   "execution_count": 23,
   "id": "65e6788a-6898-447e-9ba1-878881ee81f4",
   "metadata": {},
   "outputs": [
    {
     "data": {
      "text/plain": [
       "[<img alt=\"Google\" class=\"kgJEQe\" src=\"/images/branding/searchlogo/1x/googlelogo_desk_heirloom_color_150x55dp.gif\"/>,\n",
       " <img alt=\"\" class=\"DS1iW\" src=\"https://encrypted-tbn0.gstatic.com/images?q=tbn:ANd9GcTw7G48FnLNCO2gGjMABD7W_0PPI2v9HQts8jXdtqEomxahKG15PaUEOEo2H3U&amp;s\"/>,\n",
       " <img alt=\"\" class=\"DS1iW\" src=\"https://encrypted-tbn0.gstatic.com/images?q=tbn:ANd9GcRJqHzg9DJJPRbcFIrzl2LM_9PxyNSoyVF4mC09eVrcfdfo_5-dY8IApJu0MEM&amp;s\"/>,\n",
       " <img alt=\"\" class=\"DS1iW\" src=\"https://encrypted-tbn0.gstatic.com/images?q=tbn:ANd9GcQVPxSCEIg_M8FyTMpCLU22_alJtuBvdPCyQp5IdnRqkyHGgZJ5LmxApXd7LQ&amp;s\"/>,\n",
       " <img alt=\"\" class=\"DS1iW\" src=\"https://encrypted-tbn0.gstatic.com/images?q=tbn:ANd9GcQMszCN4ttiNd_JpdU83ZkzkvTrZhImi_iM18JvOEY7PaIJ1EiDuypNsF_2AA&amp;s\"/>,\n",
       " <img alt=\"\" class=\"DS1iW\" src=\"https://encrypted-tbn0.gstatic.com/images?q=tbn:ANd9GcQhHSpPmlyTmHx7g8uA2ovzLZJCySoxuTkyoTz-rCgoUHCEKQfuV8EmTcYoHjk&amp;s\"/>,\n",
       " <img alt=\"\" class=\"DS1iW\" src=\"https://encrypted-tbn0.gstatic.com/images?q=tbn:ANd9GcTBSwvSwKBlRUAZkr67W5xPjJZdtX_JFgPraEBWMDlX0ssY_VPVyjrwN7DkRA&amp;s\"/>,\n",
       " <img alt=\"\" class=\"DS1iW\" src=\"https://encrypted-tbn0.gstatic.com/images?q=tbn:ANd9GcRsh_2oPpvB0_ru48NDuTE_wgGlT_iFTwAPnN6hLyPGy2A6X6FlO1udvvb1Zg&amp;s\"/>,\n",
       " <img alt=\"\" class=\"DS1iW\" src=\"https://encrypted-tbn0.gstatic.com/images?q=tbn:ANd9GcTJQhVDWcv65kzjWZ1JY7_9c3Bv4eWzcsiTRmjfzf_jTLpsv6-TjLzgeWjRsZI&amp;s\"/>,\n",
       " <img alt=\"\" class=\"DS1iW\" src=\"https://encrypted-tbn0.gstatic.com/images?q=tbn:ANd9GcQXqdrb1PFFJNRWiXlnaaZ24BEf8aVS2Pi6X6vmeHqsH1QZ0r6jXP80fOJgJGU&amp;s\"/>,\n",
       " <img alt=\"\" class=\"DS1iW\" src=\"https://encrypted-tbn0.gstatic.com/images?q=tbn:ANd9GcQpvIWyOhBL5yuXyevzaZiZLksEEklhCbklpZfAsVxbqJpodfgpK_dpA7fHw1Y&amp;s\"/>,\n",
       " <img alt=\"\" class=\"DS1iW\" src=\"https://encrypted-tbn0.gstatic.com/images?q=tbn:ANd9GcRPZYGVv7dRSRb0Rg_HXfoZSwQa5bnooQouS4eTcrFqM8mtcuUi08uNaYBVVg&amp;s\"/>,\n",
       " <img alt=\"\" class=\"DS1iW\" src=\"https://encrypted-tbn0.gstatic.com/images?q=tbn:ANd9GcRVmNt9yn71gKF0oIBL3iTyga3F9Edvykg6JL9cmj8tct0MXHSZmSYsysErOc8&amp;s\"/>,\n",
       " <img alt=\"\" class=\"DS1iW\" src=\"https://encrypted-tbn0.gstatic.com/images?q=tbn:ANd9GcQMZGiRUaBbvIyzID1W2c7iZMXOuCe5Ydprg_x3alYgiPENGMsG2qiNvD8BYA&amp;s\"/>,\n",
       " <img alt=\"\" class=\"DS1iW\" src=\"https://encrypted-tbn0.gstatic.com/images?q=tbn:ANd9GcRK3L9xVMRO33pU3RwecMjUkWx-VAfsLFx2LAiyXPcSodnD6C0dbg093hkepw&amp;s\"/>,\n",
       " <img alt=\"\" class=\"DS1iW\" src=\"https://encrypted-tbn0.gstatic.com/images?q=tbn:ANd9GcSvvDz1Coxn3FAaBSTuqOzxfFMiRd2azk31NFp-pJoWVFWqOVrREzPJslf3fg&amp;s\"/>,\n",
       " <img alt=\"\" class=\"DS1iW\" src=\"https://encrypted-tbn0.gstatic.com/images?q=tbn:ANd9GcS9MynEeD45SP87xkSFH2NpyJy43DuU71lIBSmDtMnWfDOztOpSKkhLIBaLSQ&amp;s\"/>,\n",
       " <img alt=\"\" class=\"DS1iW\" src=\"https://encrypted-tbn0.gstatic.com/images?q=tbn:ANd9GcR-mg-m-ufrBwKXzcL5l-JbekXSX769ojXvm1xYSnKh7GEZLIDofpAtjUtrFF4&amp;s\"/>,\n",
       " <img alt=\"\" class=\"DS1iW\" src=\"https://encrypted-tbn0.gstatic.com/images?q=tbn:ANd9GcRlEis3JnOnAB7YD0m7duVkLtyN1Du-NTm-eyFqDOe5o7SinFnU4md7z-qBCw&amp;s\"/>,\n",
       " <img alt=\"\" class=\"DS1iW\" src=\"https://encrypted-tbn0.gstatic.com/images?q=tbn:ANd9GcSae8BSQxliATNPGCwQrQJKhlqjVZbFrP2D6yEfMMqyPPi7RvL0p2awsH_C7ck&amp;s\"/>,\n",
       " <img alt=\"\" class=\"DS1iW\" src=\"https://encrypted-tbn0.gstatic.com/images?q=tbn:ANd9GcS7h58A9Rwt0PaL6rfOBc994ftZk1kRbYCDCeuahrJS2fcoAX-oF5ygokeqqQ&amp;s\"/>]"
      ]
     },
     "execution_count": 23,
     "metadata": {},
     "output_type": "execute_result"
    }
   ],
   "source": [
    "img_tags\n"
   ]
  },
  {
   "cell_type": "code",
   "execution_count": 24,
   "id": "ca211635-2f10-44c8-addc-2ed0d0676371",
   "metadata": {},
   "outputs": [],
   "source": [
    " del img_tags[0]"
   ]
  },
  {
   "cell_type": "code",
   "execution_count": 25,
   "id": "40b35fc9-f4e4-4e41-941f-913adbe6d4be",
   "metadata": {},
   "outputs": [
    {
     "data": {
      "text/plain": [
       "[<img alt=\"\" class=\"DS1iW\" src=\"https://encrypted-tbn0.gstatic.com/images?q=tbn:ANd9GcTw7G48FnLNCO2gGjMABD7W_0PPI2v9HQts8jXdtqEomxahKG15PaUEOEo2H3U&amp;s\"/>,\n",
       " <img alt=\"\" class=\"DS1iW\" src=\"https://encrypted-tbn0.gstatic.com/images?q=tbn:ANd9GcRJqHzg9DJJPRbcFIrzl2LM_9PxyNSoyVF4mC09eVrcfdfo_5-dY8IApJu0MEM&amp;s\"/>,\n",
       " <img alt=\"\" class=\"DS1iW\" src=\"https://encrypted-tbn0.gstatic.com/images?q=tbn:ANd9GcQVPxSCEIg_M8FyTMpCLU22_alJtuBvdPCyQp5IdnRqkyHGgZJ5LmxApXd7LQ&amp;s\"/>,\n",
       " <img alt=\"\" class=\"DS1iW\" src=\"https://encrypted-tbn0.gstatic.com/images?q=tbn:ANd9GcQMszCN4ttiNd_JpdU83ZkzkvTrZhImi_iM18JvOEY7PaIJ1EiDuypNsF_2AA&amp;s\"/>,\n",
       " <img alt=\"\" class=\"DS1iW\" src=\"https://encrypted-tbn0.gstatic.com/images?q=tbn:ANd9GcQhHSpPmlyTmHx7g8uA2ovzLZJCySoxuTkyoTz-rCgoUHCEKQfuV8EmTcYoHjk&amp;s\"/>,\n",
       " <img alt=\"\" class=\"DS1iW\" src=\"https://encrypted-tbn0.gstatic.com/images?q=tbn:ANd9GcTBSwvSwKBlRUAZkr67W5xPjJZdtX_JFgPraEBWMDlX0ssY_VPVyjrwN7DkRA&amp;s\"/>,\n",
       " <img alt=\"\" class=\"DS1iW\" src=\"https://encrypted-tbn0.gstatic.com/images?q=tbn:ANd9GcRsh_2oPpvB0_ru48NDuTE_wgGlT_iFTwAPnN6hLyPGy2A6X6FlO1udvvb1Zg&amp;s\"/>,\n",
       " <img alt=\"\" class=\"DS1iW\" src=\"https://encrypted-tbn0.gstatic.com/images?q=tbn:ANd9GcTJQhVDWcv65kzjWZ1JY7_9c3Bv4eWzcsiTRmjfzf_jTLpsv6-TjLzgeWjRsZI&amp;s\"/>,\n",
       " <img alt=\"\" class=\"DS1iW\" src=\"https://encrypted-tbn0.gstatic.com/images?q=tbn:ANd9GcQXqdrb1PFFJNRWiXlnaaZ24BEf8aVS2Pi6X6vmeHqsH1QZ0r6jXP80fOJgJGU&amp;s\"/>,\n",
       " <img alt=\"\" class=\"DS1iW\" src=\"https://encrypted-tbn0.gstatic.com/images?q=tbn:ANd9GcQpvIWyOhBL5yuXyevzaZiZLksEEklhCbklpZfAsVxbqJpodfgpK_dpA7fHw1Y&amp;s\"/>,\n",
       " <img alt=\"\" class=\"DS1iW\" src=\"https://encrypted-tbn0.gstatic.com/images?q=tbn:ANd9GcRPZYGVv7dRSRb0Rg_HXfoZSwQa5bnooQouS4eTcrFqM8mtcuUi08uNaYBVVg&amp;s\"/>,\n",
       " <img alt=\"\" class=\"DS1iW\" src=\"https://encrypted-tbn0.gstatic.com/images?q=tbn:ANd9GcRVmNt9yn71gKF0oIBL3iTyga3F9Edvykg6JL9cmj8tct0MXHSZmSYsysErOc8&amp;s\"/>,\n",
       " <img alt=\"\" class=\"DS1iW\" src=\"https://encrypted-tbn0.gstatic.com/images?q=tbn:ANd9GcQMZGiRUaBbvIyzID1W2c7iZMXOuCe5Ydprg_x3alYgiPENGMsG2qiNvD8BYA&amp;s\"/>,\n",
       " <img alt=\"\" class=\"DS1iW\" src=\"https://encrypted-tbn0.gstatic.com/images?q=tbn:ANd9GcRK3L9xVMRO33pU3RwecMjUkWx-VAfsLFx2LAiyXPcSodnD6C0dbg093hkepw&amp;s\"/>,\n",
       " <img alt=\"\" class=\"DS1iW\" src=\"https://encrypted-tbn0.gstatic.com/images?q=tbn:ANd9GcSvvDz1Coxn3FAaBSTuqOzxfFMiRd2azk31NFp-pJoWVFWqOVrREzPJslf3fg&amp;s\"/>,\n",
       " <img alt=\"\" class=\"DS1iW\" src=\"https://encrypted-tbn0.gstatic.com/images?q=tbn:ANd9GcS9MynEeD45SP87xkSFH2NpyJy43DuU71lIBSmDtMnWfDOztOpSKkhLIBaLSQ&amp;s\"/>,\n",
       " <img alt=\"\" class=\"DS1iW\" src=\"https://encrypted-tbn0.gstatic.com/images?q=tbn:ANd9GcR-mg-m-ufrBwKXzcL5l-JbekXSX769ojXvm1xYSnKh7GEZLIDofpAtjUtrFF4&amp;s\"/>,\n",
       " <img alt=\"\" class=\"DS1iW\" src=\"https://encrypted-tbn0.gstatic.com/images?q=tbn:ANd9GcRlEis3JnOnAB7YD0m7duVkLtyN1Du-NTm-eyFqDOe5o7SinFnU4md7z-qBCw&amp;s\"/>,\n",
       " <img alt=\"\" class=\"DS1iW\" src=\"https://encrypted-tbn0.gstatic.com/images?q=tbn:ANd9GcSae8BSQxliATNPGCwQrQJKhlqjVZbFrP2D6yEfMMqyPPi7RvL0p2awsH_C7ck&amp;s\"/>,\n",
       " <img alt=\"\" class=\"DS1iW\" src=\"https://encrypted-tbn0.gstatic.com/images?q=tbn:ANd9GcS7h58A9Rwt0PaL6rfOBc994ftZk1kRbYCDCeuahrJS2fcoAX-oF5ygokeqqQ&amp;s\"/>]"
      ]
     },
     "execution_count": 25,
     "metadata": {},
     "output_type": "execute_result"
    }
   ],
   "source": [
    "img_tags"
   ]
  },
  {
   "cell_type": "code",
   "execution_count": 26,
   "id": "3cfca08e-8ddd-44f8-bb10-388828322bb5",
   "metadata": {},
   "outputs": [
    {
     "data": {
      "text/plain": [
       "20"
      ]
     },
     "execution_count": 26,
     "metadata": {},
     "output_type": "execute_result"
    }
   ],
   "source": [
    "len(img_tags)"
   ]
  },
  {
   "cell_type": "code",
   "execution_count": 27,
   "id": "c0da9351",
   "metadata": {},
   "outputs": [
    {
     "name": "stdout",
     "output_type": "stream",
     "text": [
      "https://encrypted-tbn0.gstatic.com/images?q=tbn:ANd9GcTw7G48FnLNCO2gGjMABD7W_0PPI2v9HQts8jXdtqEomxahKG15PaUEOEo2H3U&s\n",
      "https://encrypted-tbn0.gstatic.com/images?q=tbn:ANd9GcRJqHzg9DJJPRbcFIrzl2LM_9PxyNSoyVF4mC09eVrcfdfo_5-dY8IApJu0MEM&s\n",
      "https://encrypted-tbn0.gstatic.com/images?q=tbn:ANd9GcQVPxSCEIg_M8FyTMpCLU22_alJtuBvdPCyQp5IdnRqkyHGgZJ5LmxApXd7LQ&s\n",
      "https://encrypted-tbn0.gstatic.com/images?q=tbn:ANd9GcQMszCN4ttiNd_JpdU83ZkzkvTrZhImi_iM18JvOEY7PaIJ1EiDuypNsF_2AA&s\n",
      "https://encrypted-tbn0.gstatic.com/images?q=tbn:ANd9GcQhHSpPmlyTmHx7g8uA2ovzLZJCySoxuTkyoTz-rCgoUHCEKQfuV8EmTcYoHjk&s\n",
      "https://encrypted-tbn0.gstatic.com/images?q=tbn:ANd9GcTBSwvSwKBlRUAZkr67W5xPjJZdtX_JFgPraEBWMDlX0ssY_VPVyjrwN7DkRA&s\n",
      "https://encrypted-tbn0.gstatic.com/images?q=tbn:ANd9GcRsh_2oPpvB0_ru48NDuTE_wgGlT_iFTwAPnN6hLyPGy2A6X6FlO1udvvb1Zg&s\n",
      "https://encrypted-tbn0.gstatic.com/images?q=tbn:ANd9GcTJQhVDWcv65kzjWZ1JY7_9c3Bv4eWzcsiTRmjfzf_jTLpsv6-TjLzgeWjRsZI&s\n",
      "https://encrypted-tbn0.gstatic.com/images?q=tbn:ANd9GcQXqdrb1PFFJNRWiXlnaaZ24BEf8aVS2Pi6X6vmeHqsH1QZ0r6jXP80fOJgJGU&s\n",
      "https://encrypted-tbn0.gstatic.com/images?q=tbn:ANd9GcQpvIWyOhBL5yuXyevzaZiZLksEEklhCbklpZfAsVxbqJpodfgpK_dpA7fHw1Y&s\n",
      "https://encrypted-tbn0.gstatic.com/images?q=tbn:ANd9GcRPZYGVv7dRSRb0Rg_HXfoZSwQa5bnooQouS4eTcrFqM8mtcuUi08uNaYBVVg&s\n",
      "https://encrypted-tbn0.gstatic.com/images?q=tbn:ANd9GcRVmNt9yn71gKF0oIBL3iTyga3F9Edvykg6JL9cmj8tct0MXHSZmSYsysErOc8&s\n",
      "https://encrypted-tbn0.gstatic.com/images?q=tbn:ANd9GcQMZGiRUaBbvIyzID1W2c7iZMXOuCe5Ydprg_x3alYgiPENGMsG2qiNvD8BYA&s\n",
      "https://encrypted-tbn0.gstatic.com/images?q=tbn:ANd9GcRK3L9xVMRO33pU3RwecMjUkWx-VAfsLFx2LAiyXPcSodnD6C0dbg093hkepw&s\n",
      "https://encrypted-tbn0.gstatic.com/images?q=tbn:ANd9GcSvvDz1Coxn3FAaBSTuqOzxfFMiRd2azk31NFp-pJoWVFWqOVrREzPJslf3fg&s\n",
      "https://encrypted-tbn0.gstatic.com/images?q=tbn:ANd9GcS9MynEeD45SP87xkSFH2NpyJy43DuU71lIBSmDtMnWfDOztOpSKkhLIBaLSQ&s\n",
      "https://encrypted-tbn0.gstatic.com/images?q=tbn:ANd9GcR-mg-m-ufrBwKXzcL5l-JbekXSX769ojXvm1xYSnKh7GEZLIDofpAtjUtrFF4&s\n",
      "https://encrypted-tbn0.gstatic.com/images?q=tbn:ANd9GcRlEis3JnOnAB7YD0m7duVkLtyN1Du-NTm-eyFqDOe5o7SinFnU4md7z-qBCw&s\n",
      "https://encrypted-tbn0.gstatic.com/images?q=tbn:ANd9GcSae8BSQxliATNPGCwQrQJKhlqjVZbFrP2D6yEfMMqyPPi7RvL0p2awsH_C7ck&s\n",
      "https://encrypted-tbn0.gstatic.com/images?q=tbn:ANd9GcS7h58A9Rwt0PaL6rfOBc994ftZk1kRbYCDCeuahrJS2fcoAX-oF5ygokeqqQ&s\n"
     ]
    }
   ],
   "source": [
    "for i in img_tags:\n",
    "    print(i['src'])"
   ]
  },
  {
   "cell_type": "code",
   "execution_count": 29,
   "id": "37f20940-223b-4f7f-9ad8-14c7ed29d554",
   "metadata": {},
   "outputs": [
    {
     "data": {
      "text/plain": [
       "b'\\xff\\xd8\\xff\\xe0\\x00\\x10JFIF\\x00\\x01\\x01\\x00\\x00\\x01\\x00\\x01\\x00\\x00\\xff\\xdb\\x00\\x84\\x00\\t\\x06\\x07\\x08\\x07\\x06\\t\\x08\\x07\\x08\\n\\n\\t\\x0b\\r\\x16\\x0f\\r\\x0c\\x0c\\r\\x1b\\x14\\x15\\x10\\x16 \\x1d\"\" \\x1d\\x1f\\x1f$(4,$&1\\'\\x1f\\x1f-=-157:::#+?D?8C49:7\\x01\\n\\n\\n\\r\\x0c\\r\\x1a\\x0f\\x0f\\x1a7%\\x1f%77777777777777777777777777777777777777777777777777\\xff\\xc0\\x00\\x11\\x08\\x00\\x8c\\x00r\\x03\\x01\"\\x00\\x02\\x11\\x01\\x03\\x11\\x01\\xff\\xc4\\x00\\x1c\\x00\\x00\\x02\\x02\\x03\\x01\\x01\\x00\\x00\\x00\\x00\\x00\\x00\\x00\\x00\\x00\\x00\\x03\\x04\\x05\\x06\\x00\\x02\\x07\\x01\\x08\\xff\\xc4\\x00@\\x10\\x00\\x02\\x01\\x03\\x03\\x02\\x03\\x05\\x04\\x06\\x07\\t\\x00\\x00\\x00\\x00\\x01\\x02\\x03\\x00\\x04\\x11\\x05\\x12!1A\\x06\"Q\\x13aq\\x81\\x91\\x07\\x142\\xa1\\x15#B\\xb1\\xc1\\xd1CR\\x82\\xa2\\xb2\\xe1\\xf1$3Dcr\\x92\\xb3\\xc2\\xf0\\xff\\xc4\\x00\\x19\\x01\\x00\\x03\\x01\\x01\\x01\\x00\\x00\\x00\\x00\\x00\\x00\\x00\\x00\\x00\\x00\\x00\\x00\\x01\\x02\\x03\\x04\\x05\\xff\\xc4\\x00!\\x11\\x01\\x01\\x00\\x02\\x03\\x00\\x02\\x02\\x03\\x00\\x00\\x00\\x00\\x00\\x00\\x00\\x00\\x01\\x02\\x11\\x03!1\\x12A\\x042\"Qa\\xff\\xda\\x00\\x0c\\x03\\x01\\x00\\x02\\x11\\x03\\x11\\x00?\\x00\\xe4Q\\xf6\\xa3c\\x8a\\x0ctj\\xd1\\r\\x1e\\x95\\x94SM\\xde\\x96\\x96\\x95\\x10\\x03YXG5\\xee\\xd6#*\\xa4\\xfa\\xe0t\\xa4\\xa7\\x95\\x94x\\xed.\\x1c\\x8d\\xb1\\xe7=\\xaby\\xec\\xae\"Vs\\x1f\\xe1\\xc7A\\xebKp\\xf5J\\xd6Q\\x08\\xf36\\xe1\\x920|\\xbd(dsNQ\\xa1a\\xfcB\\x99\\x9b\\xa5+\\t\\xe4Sr\\xfe\\x1aq4\\xa3w\\xa1\\x9a#P\\xcd#kY^\\xd6P\\x0e\\xc4h\\xf8\\xe2\\x97\\x8e\\x98\\x1d*\\x93Z7z\\x04\\x82\\x98a\\xd6\\x94\\xbal2\\xc7\\xbb\\x04\\xf5>\\x94\\xa9\\xc6\\xb0!\\x9aF\\x03\\xf0\\xa8\\xc9&\\x9f\\xb4\\xbbw)\\x15\\x9d\\xa9i\\x01\\xe8\\x80\\xb0<\\xf7\\x1d\\xc5\\x1bN\\xd0\\xa4\\xbcc\\x1c2f>\\x8e\\xf9\\xe9\\xf2\\xf5\\xae\\x93\\xe1\\x8d\\x16\\xd2\\xc24[x\\x80=\\xd8\\xf2Z\\xb0\\xcf\\x92b\\xe9\\xe2\\xe2\\xb9\\xaa\\x16Zf\\xb22\\xe9\\xa6\\x92\\xae\\xdb\\xb6\\x91\\x80\\x06s\\x8f\\xe1G\\x9fI\\xd4Lj\\xb76R.y$\\x0e\\xf8\\xc0\\xfeu\\xd7ma#\\x19\\x14\\xf0\\x896\\xf2\\x81\\xbe5\\x9c\\xe5ox$\\xfbpG\\xd1\\xad\\xd7)&\\xf8\\xe4 \\x80\\x19H\\xa8\\xb9\\xf4y\\x02\\xee\\x8f\\xcc0O\\x15\\xf4E\\xe6\\x9ber\\x85nmcu=\\x8a\\xd5\\'\\xc4>\\x0e\\x10D\\xf7Z+>\\xf1\\x96kg>V\\x1d\\xc2\\xfb\\xea\\xe7$g\\x9f\\r\\x8e9\\x18\\xday\\x04c\\xaf\\xba\\x9b\\x95YUw\\x0e\\xa353\\x1d\\xbd\\xac\\xd7L\\\\\\x15I0]\\x14e\\xb7g8\\x14-oN[(T\\x93\\xb9\\xce\\x00\\xc3p\\xa3\\x1c\\xfcy?A\\x9e\\xf5\\xb4\\xaek\\x8a\\xbe\\xf43Dz\\x19\\xa6\\x97\\x95\\x95\\x95\\x94\\x03q\\xd3\\x0b\\xd2\\x97JazU\\x15a\\xe4\\xd4i,\\xd7$\\xe7,[\\x15$x9\\xa1i\\xf6\\x8b>\\xaf\\x14\\x04\\x90\\x8c\\xdb\\x89\\xf7T\\xe5\\xe1\\xe3\\xea\\xf9\\xe1]<\\x8b\\x05q\\x90:\\x8ct\\xcd\\\\\\xf4\\xc8}\\x9bc\\xbej\\x1bO\\x9a\\x0b+p\\xa7\\xc8\\x8b\\xd0\\x0e~T\\xd2\\xf8\\x92\\xc2\\t\\x97\\xda\\xc71N\\xec\\x17\\xa5q\\xd9mzX\\x7f\\x18\\xba\\xda\\xa9~=)\\xf0\\x8a\\x17\\x18\\xa8\\xfd/P\\xb4\\xbd\\x85$\\xb5\\x94:\\x1fA\\xf9S\\xc1\\x91\\x8f\\xe2\\xe3\"\\x9c\\xc4\\xed\\xd8\\xde\\xc8\\x15\\xff\\x00*\\x8e\\xbc\\x84\\xaeN;\\xd3\\xf2\\\\\\xc1\\x10\\xc3\\xcf\\x1a\\xfb\\x99\\x80\\xa04\\x91\\\\F\\x0cn\\x8e\\xa7\\xf6\\x81\\xc8\\xa5aK\\xdb\\x96x\\xc7M\\xb7\\xb2\\xd4%\\xbb\\x8fdK)\\xdd\\xe6\\x07\\x96=z\\x1f\\xdf\\xebT}f\\xf8\\xdcF\\x15Tm\\xcf-\\x8eI\\xf9p>U\\xd1\\xfe\\xd3\\xa3H\\xec\\x94\\xc8\\xbeF\\xc8\\x07\\x1d\\x0f\\xb8\\xd73\\xb9\\x99N\\x9c\\xb1\\xae\\xd2\\t\\xc8\\xc0\\xe6\\xb7\\xe3\\xbb\\x8e>i\\xabP\\xefC4G\\xebC5\\xab\\x16VW\\xb5\\xe5\\x00\\xcct\\xc2\\xf4\\xa5\\x92\\x98S\\xc52\\xafI\\xa3h\\xc0\\x8dv\\x12\\xe0\\x8e3\\xc8\\xc6F)v\\xfaU\\x9d\\xed\\xf2\\x9ae\\xfb\\x10\\xcb,@\\x0c/(q\\x8d\\xa4\\xf7\\xc1\\x07\\x9a\\x9c\\xfc_\\x14\\xddY\\'M\\xb6\\xe2B\\xb9\\xc3q\\x91\\xd0\\xe2\\x98\\xd25\\xcb\\xc5\\x9e\\xda\\x08\\xf4?\\xbcGq Oj\\xcaH\\x07 d\\xe0`\\x0eI\\xe7\\xd0\\xd4\\x9e\\x8d\\x1cR\\xc7\\x18p\\xacr\\x18\\x86\\x15a\\xd3\\xf4\\xe8\"fkpb\\xceK\\x00F\\x07\\xe5\\x9a\\xe7\\xc7/\\xed\\xdfp\\xba\\xe9[\\xbe\\xbck-b1\\r\\x9bY\\xc8\\xaf\\xb2x\\xd4\\xe5\\x18\\xf6#\\xd0\\xe3\\x9a\\xb7\\xea\\'\\xee\\xfa|s#\\xf5\\x03\\x90*\\xa1\\xe2i\\xf6\\xdcF7\\xee;\\x86\\xd1\\xda\\xae0\\x93$0D[k2u\\xc7J\\x9d\\xdd\\xb5\\x98j(\\xb2\\\\\\xf8r\\xe2\\xfdR\\xf7\\xf4\\x80\\xb9\\x93\\x05$Us\\x9c\\xe7\\x04c\\xb7\\x94\\xfd*\\xc3\\xa7\\xc4\\xb6m\\x1b\\xd9^\\xc9qm \\xcf\\x9d\\xb7)\\x1e\\xa3\\xd2\\xa4\"\\xd1bK\\xb8\\xe5\\x9a\\xd2\\t%\\x88\\x15\\x8eR\\xbc\\xa0\\xf7\\x1f\\xf4\\xa2\\xdah\\x91X\\x96\\xf6\\'\\x08y+\\x8e\\x01\\xf7UY4\\xcf]\\xdd\\xaa\\xdfh\\xc8\\xb7\\x1e\\x1d\\x987\\'zm\\xf8\\xe7\\x19\\xae*\\x8c\\xcd\\x11\\xc9\\xe0\\x1c\\x01]\\xaf\\xc7\\xd9\\x92\\xc9m\\xe3\\x1b\\x9eI8Q\\xd4\\x90\\t\\xaeG\\xabi7\\xba-\\xd9\\xb2\\xd4P$\\xfb\\x16N\\x1b \\xab\\x0e?\\x88>\\xf0j\\xf8\\\\\\xbf\\x91;D7Z\\xd0\\xd1\\x1b\\xa9\\xa1\\x9a\\xd9\\xce\\xf3\\x9a\\xca\\xca\\xca\\x01\\x84\\xe2\\x8e\\x9d(\\tF\\x8e\\x99V\\xcdWki!\\x9b\\xc0V1B\\xc1\\xa5\\x86\\xe9\\x8c\\xa0u\\\\\\xef\\xc0\\xaaKU\\x8b\\xc3W6\\xed\\xa75\\x89b.~\\xf5\\xedpG\\x0c\\x9bq\\xc7\\xc0\\x8f\\xce\\xa3\\x93\\xc6\\xbc?\\xb2\\xe5\\xa7\\xce\\xd04g\\x93\\xf0\\xabc]\\x85\\xb4]\\xa0\\xee \\x16\\xfeUS\\x8a=\\xf1\\x8d\\x9dEX\\x1a\\xea\\xdd4\\xa0\\xd3 V\\xc0]\\xd9\\xc5r{\\xe3\\xd2\\xc7/\\x8f\\xaa\\xa6\\xbfy8\\xd4\\x96d\\x84\\xb2\\xc6\\xe3-\\xe8\\xbe\\xa0w\\xe7\\xf7U\\xbfO\\xd7^\\xfe[a\\xf7iULE\\xbd\\xb1Q\\xb0>q\\xb79\\xcf?\\n\\x84\\x8f\\xc4^\\x1e\\xb6\\xbb\\x89\\xa5r\\xc06<\\xab\\x95\\x07\\xdfV\\x9d\\x1f\\\\\\xd1u\\x17\\x16\\xfa}\\xec2L\\x99\\x1b3\\x83\\xf2\\xab\\xd7Z_\\xfa\\x9b\\xb7s,g#\\x0e?\\x10=\\xa8W\\x17\\x06?*\\x00s\\xd2\\xb7e(\\xdb\\xf3\\xf8\\xb85\\x1e\\xe7xr\\xc7\\x9fJ\\x9bt\\x8e\\xaf\\x88\\x19\\x11/\\xbcKn\\x93F\\xce\\xb1\\x89\\x1dH\\xce7`\\x0c\\xd7+\\xf1\\xba\\xc7\\x17\\x8ao\\xedm\\xc8\\xf66\\xbb!@:\\x0c(\\'\\xfb\\xcc\\xdfZ\\xebw\\x1a\\x85\\xb6\\x85\\xa5\\xdc\\xeb7*\\xcc\"W\\x0b\\xd3\\x198\\x01y=I\\x00\\x7f\\x95p\\x814\\x972M<\\xed\\xbaY\\\\\\xbc\\x8c{\\xb19\\'\\xeb[p\\xcf\\xb7\\'\\xe5Y\\xd4\\x85\\x1f\\xbd\\x08\\xd1d\\xeahf\\xb7r<\\xac\\xaf+)\\x01\\xd4\\xf3G\\x8f\\xad\\x00Q\\x93\\xb52n\\xc3\\x8c\\xd3:4\\xc2\\rN\\x17\\'\\x03\\x91\\xf5\\xa07J\\x12\\xc5$\\xb2\\xc7\\x14\\n\\xcd,\\x8e\\x11\\x15z\\x96\\'\\x00\\x0f\\x9d+741\\xba\\xbbt\\xcbK\\xd0\\x8e\\xa4\\xfe\\x13\\xd7\\xbdLk\\xd1\\xdajV\\x91\\xed\\x8btap\\xc0\\xf2\\t\\xf5\\xc7z\\xe7\\xf6Z\\x8c\\xd6\\xb3Kc~\\x81f\\x8d\\x8a7\\xbc\\x83\\x8a\\xb4iz\\xd2\\xec\\x11J<\\xb9\\x1czW%\\xc6\\xcf\\x1e\\x8e9\\xcb\\xea[B\\xb3\\xd4m-\\x8d\\xb4P\\xc4c\\'(d\\xe4\\x1c\\xfb\\xbbT\\xb4\\xbaC\\xde\"~\\x92\\xb0\\x86<\\x7fK\\x19\\nA\\xf5V\\x1c\\xa9\\xf7\\x8a5\\x8e\\xa9o!\\x01H\\xdc\\x07\\x1d0jv\\x1b\\xe8d\\x8bk\\x159\\x1c\\x82j\\xb7t\\xdaed\\xf4\\x1b$\\x92\\x0f\\xd5\\\\]\\x19\\xe3\\x03(_\\x1b\\xbe\\x07\\x81\\x9a\\xd6wM\\xad\\xb4u\\xcd\\x02\\xee\\xe2\\xd0\\xfe\\xa5$\\xda\\xab\\xd0\\x96\\xe9U\\x9f\\x13x\\x92=7M\\x9e\\xe2\\x10\\xcf\\xb4\\x88\\x95\\x90d\\x06l\\xe3?B~U\\x9e\\xaeWH\\xf9Lf\\xd4?\\x1e\\xf8\\xbe\\xe3SG\\xd0\\xa3\\x8dc\\xb4\\xb5\\xbab\\xce\\xa7\\x99H$\\x0f\\x80\\x19\\'\\xdf\\xc5UmySJ\\xc9#H\\xec\\xeeIf9$\\xd36\\x9d\\rvc54\\xf3\\xb3\\xcb\\xe5wB\\x90`\\x9a\\t\\xa3\\xcd\\xd4\\xd0\\rR^VVW\\x94\\x80\\xebLGK+\\xae:\\xd6\\xff\\x00x\\x8d{\\x93\\xf0\\x14\\xc8\\xd3t\\xa9\\xcf\\x00\\xc0\\x97\\x1e2\\xd3\\x83\\x80V\\x02\\xf7,\\x0f\\xfc\\xb4,\\xbf\\xde\\x02\\xab\\rx\\xcd\\xc2&=\\xe4\\xd4\\xff\\x00\\xd9\\xd5\\xc8\\xb7\\xf1\\x96\\x9d$\\xa71\\xb3\\xb2I\\xce2\\xac\\x8c\\x0f\\xe4h\\x1aYm,c\\xd6\\xb4\\xd8&\\xba\\x8c{v@\\xdb\\xd7\\x82\\xa4\\xf2\\x7f:]\\xf4\\xab\\x8bl\\x95\\xcc\\x8a:\\x81\\xd6\\xad\\x96\\x1a<\\x9ae\\xcc\\xd6\\x12e\\xbd\\x83mV\\xfe\\xba~\\xcb|\\xc55sg\\xc1\"\\xb0vk\\xa8\\xa6\\xc4\\x1d0C\\xcb\\x11\\x1f\\x97\\xc8\\xd4\\xa5\\x90\\xbc\\x95\\xce\\xc9\\xee\\x1c\\x0eI\\xe8*r\\xc3M\\x86\\xe1\\xc8\\x964\\x93\\x9e2*z+k+@\\x14\\xa9-\\xd9#\\x19,}\\xc2\\x8d\\xabJ\\xed\\xae\\x89-\\xc0\\xf6\\x97R\\xb8RG\\x91{\\x9e\\xd4\\x1f\\xb5[\\x08\\xb4_\\x07YX\"\\x81qst\\xaf(\\xf4U\\x8d\\xb8\\xf9\\x16_\\xadt\\xed\\x1fK0\\x95\\xbc\\xbc@\\xb2\\x0f\\xf70\\xe7>\\xcf\\xdeOv\\xfd\\xdfZ\\xe3\\x1fl\\xba\\xb7\\xdf\\xfcL\\xd6\\xa8s\\x1d\\x84~\\xc8\\x7f\\xd6\\xd8g\\xff\\x00\\xd4\\x7ff\\xb4\\xc3\\x1f\\xba\\xe7\\xe5\\xce~\\xb1\\xcbB\\x92p1\\xc7rqF\\x86E\\x8c\\xe1\\x98s\\xf1\\xc5\\x17\\xd8f6\\xca\\xe4\\xa8$P\\x964\\xc9\\xe0c\\xdfV\\xc9\\xb5\\xc2m9W\\x8eE\\xf5F\\x07\\xfd)c\\xd6\\x98\\n\\xb9\\xfc#\\xe9[\\x04\\x8c\\xf0PR\\x04\\xeb)\\xdf\\xbb\\xc5\\xe8\\xdfZ\\xca\\x02?\\x04\\xf7&\\xbd\\x0b\\xdb\\x14\\xe8\\n\\t\\x00`\\x8a\\xc8\\x0c^\\xd0\\x99r\\x9e\\x84\\xf4\\xa0\\x15\\x03\\x02\\xa5\\xbc3\\xe5\\xd7\\xb4\\xfeq\\xba\\xe1W\\xfe\\xef/\\xf1\\xa5\\xee-\\xbfj21Lxi\\x1a_\\x10\\xe9\\x8a\\xa3\\xfe2\\x1f\\xfc\\x8bL>\\x8a\\xb6\\x8ck\\x1aDR\\x82\\xab}j\\x81U\\x8f\\xf4\\x8b\\xe9\\xf1\\xf4\\xf9\\xfa\\xd4}\\xdc/o\\x01\\x17p\\xb4,y\\x0f\\xb0\\xf3\\xf1\\x14\\xee\\x9b\\x05\\xd5\\xb4\\xd1\\x84\\xb6g\\xb7;\\xa4s\\xf4\\xda=\\xfcs\\xfd\\xaa\\x97\\xb9T\\xd4mLSFB\\x9e9\\x1c\\xa9\\xecy\\xee(\\xcf\\x8fwq\\xaf\\x175\\xc2j\\xf8\\xa3Gr\\xd1~\\xb2\\xdc\\xa9\\xcf\\xedc5w\\xd0\\xf4\\x81\\x0e\\x96\\xb7\\xd2\\xb17S(vv\\xfcJ\\xa7\\xb0\\xf4\\xe3\\xadU\\x1e\\xda;9L^\\xcc\\xabw\\xcf\\x1f\\xfd\\xf1\\xab\\xf6\\x93\\xa8\\xd8\\xdfXI\\x1cR\\xee\\x16\\xe8#\\x9dX`\\xaf\\x97\\xf7c\\xb8\\xe3\\xe9X\\xe1\\xefm\\xff\\x00#\\x7f\\x1e\\x99\\r\\xd4pi\\xd3\\xcd#\\xe6+ev$\\xff\\x00T\\x0c\\xd7\\xcb\\xba\\x85\\xd3j\\x17w\\x17rg\\xdaO+\\xca\\xd999bO\\xf1\\xae\\xe7\\xe3Y\\xe5\\xd3<\\x0f\\xab\\xdc\\x9f+\\xdd\\xc5\\xb5\\xc18#yUP>\\x00\\xe2\\xb8\\x02\\xb1\\r\\xb8q[\\xde\\x9cPH\\xd7\\xf7R2C\\xb5\\xd9@\\xe3\\xb56\\xf7\\x00(\\x08\\xben\\xf9\\xe9@i\\x19\\x8eN\\x0f\\xca\\x91\\x86W\\x0b\\x9fA\\xcdj\\x87-\\x9a\\xc9\\x9bd{{\\xb9\\xcf\\xc8W\\x90\\x8e)\\x01s^W\\xbe\\xcc\\xfa\\xd6S\\x05\\xe58\\xb9o~(\\x81F8\\x1c\\xfa\\x1a\\xd2A\\xfe\\xd7\\x8a>x\\xa4\\x03u>\\xcf\\x18\\xe39\\xc5K\\xf8\\x19U\\xfcY\\xa5\\x07\\xc6\\xdf\\xbeC\\x9c\\xfao\\x15\\x18FT\\xd4\\x87\\x83\\xfc\\xbe$\\xd3\\x98pE\\xdc_\\xe3\\x14\\xe0}U\\x18\\n6\\x03\\xbc\\x1e\\xddO\\xc6\\x84\\xf0\\x04\\x9f\\xce\\x9dFs\\x9e\\xde\\xfa_G\\xba\\x95\"\\x992\\x08W\\x18\\xcd0\\xb3<\\xf7\\xa1\\x1f\\x18\\xdd\\x8e*\\xafD\\x1d\\xcd\\x92^[\\xc9\\x0f\\xb3\\xdcYHR{\\x1e\\xc74\\xb6\\x95\\xa2\\xae\\x9a\\x92\\xc4\\x8d\\xbd\\xee\\x1c=\\xcc\\x83\\x8d\\xe4\\x00\\x02\\x8fA\\xfc\\xcdX\\x80\\n\\xb8Q\\x80)x\\xfc\\xd7<\\xf6\\x19\\x15;\\xdfg\\xbb&\\x9c\\xcf\\xed\\xd2\\xf0\\xc3\\xe1\\xa8-T\\x8cKw\\x1a\\xb7\\xbf\\n\\xcd\\x8f\\xaa\\xadq\\x13\\xc2\\xf6\\xf9WQ\\xfbq\\x9eF\\xfd\\r\\x19o,\\xb2\\\\H\\xdf\\x15\\x11\\x81\\xfe#\\\\\\xb6N\\xa6\\x80\\x13\\r\\xc7\\x1d+\\xd8\\xa3Gc\\xcb\\x00;\\xd0\\x98\\x9a\\xdb{\\x0bg \\xf3\\xd2\\x80Zy\\x0c\\xd2\\xb3v\\xe8>\\x14\\xd5\\xb4M\\xec\\xf3\\x8aN\\x11\\x99@5<QR\\xd8m\\x1d\\xa8\\x05\\xb0=++\\\\\\x9a\\xca\\x03\\xff\\xd9'"
      ]
     },
     "execution_count": 29,
     "metadata": {},
     "output_type": "execute_result"
    }
   ],
   "source": [
    "requests.get(\"https://encrypted-tbn0.gstatic.com/images?q=tbn:ANd9GcQ91bYeYuNi93Snai-G61-ct5IkXUEpoeW1RpiOFFuRWggNeJf-7uN0OZsy5XI&s\").content"
   ]
  },
  {
   "cell_type": "code",
   "execution_count": 30,
   "id": "1bcd9a88",
   "metadata": {},
   "outputs": [
    {
     "name": "stdout",
     "output_type": "stream",
     "text": [
      "0\n",
      "1\n",
      "2\n",
      "3\n",
      "4\n",
      "5\n",
      "6\n",
      "7\n",
      "8\n",
      "9\n",
      "10\n",
      "11\n",
      "12\n",
      "13\n",
      "14\n",
      "15\n",
      "16\n",
      "17\n",
      "18\n",
      "19\n"
     ]
    }
   ],
   "source": [
    "for i in img_tags:\n",
    "    print(img_tags.index(i))"
   ]
  },
  {
   "cell_type": "code",
   "execution_count": 31,
   "id": "1cfa2f9d-93d6-44dd-a35b-114a6e89ae97",
   "metadata": {},
   "outputs": [],
   "source": [
    "save_dir=\"images/\"\n",
    "if not os.path.exists(save_dir):\n",
    "    os.makedirs(save_dir)"
   ]
  },
  {
   "cell_type": "code",
   "execution_count": 32,
   "id": "5879c0e4-b457-440a-9a57-142cc31f17c9",
   "metadata": {},
   "outputs": [],
   "source": [
    "for i in img_tags:\n",
    "    img_url=i['src']\n",
    "    img_data=requests.get(img_url).content\n",
    "    with open(os.path.join(save_dir,f\"{query}_{img_tags.index(i)}.jpg\"),\"wb\") as f:\n",
    "            f.write(img_data)"
   ]
  },
  {
   "cell_type": "code",
   "execution_count": null,
   "id": "fac2a9b9-c257-4eff-890f-159ada4ac939",
   "metadata": {},
   "outputs": [],
   "source": []
  },
  {
   "cell_type": "code",
   "execution_count": null,
   "id": "f4f10d3e-1192-4132-a106-645c93836f31",
   "metadata": {},
   "outputs": [],
   "source": []
  },
  {
   "cell_type": "code",
   "execution_count": null,
   "id": "19ee65ad-7f84-4756-a059-3db208e4e233",
   "metadata": {},
   "outputs": [],
   "source": []
  },
  {
   "cell_type": "code",
   "execution_count": null,
   "id": "dbce9cd6-af6f-4f4c-ab35-88360fe1236e",
   "metadata": {},
   "outputs": [],
   "source": []
  },
  {
   "cell_type": "code",
   "execution_count": null,
   "id": "c6e61ea0-b7cc-4120-9133-5dc7a5ce0f36",
   "metadata": {},
   "outputs": [],
   "source": []
  },
  {
   "cell_type": "code",
   "execution_count": null,
   "id": "8df8dfe9-a357-4665-a1f4-e31d57a85823",
   "metadata": {},
   "outputs": [],
   "source": []
  }
 ],
 "metadata": {
  "kernelspec": {
   "display_name": "Python 3 (ipykernel)",
   "language": "python",
   "name": "python3"
  },
  "language_info": {
   "codemirror_mode": {
    "name": "ipython",
    "version": 3
   },
   "file_extension": ".py",
   "mimetype": "text/x-python",
   "name": "python",
   "nbconvert_exporter": "python",
   "pygments_lexer": "ipython3",
   "version": "3.11.4"
  }
 },
 "nbformat": 4,
 "nbformat_minor": 5
}
